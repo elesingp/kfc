{
  "nbformat": 4,
  "nbformat_minor": 0,
  "metadata": {
    "colab": {
      "provenance": []
    },
    "kernelspec": {
      "name": "python3",
      "display_name": "Python 3"
    },
    "language_info": {
      "name": "python"
    }
  },
  "cells": [
    {
      "cell_type": "code",
      "source": [
        "# @title Библиотеки\n",
        "import pandas as pd\n",
        "import seaborn as sns\n",
        "import matplotlib.pyplot as plt\n",
        "import statsmodels.api as sm\n",
        "import numpy as np\n",
        "from scipy import stats\n",
        "from scipy.stats import ttest_ind\n",
        "from tqdm import tqdm\n",
        "from statsmodels.stats.proportion import proportions_ztest\n",
        "from scipy.stats import ttest_ind_from_stats"
      ],
      "metadata": {
        "id": "AXR3bjwytcNL"
      },
      "execution_count": 876,
      "outputs": []
    },
    {
      "cell_type": "code",
      "source": [
        "# @title Upload\n",
        "from google.colab import auth\n",
        "from google.cloud import bigquery\n",
        "from google.colab import data_table\n",
        "\n",
        "project = 'kfc-kiosk-3' # Project ID inserted based on the query results selected to explore\n",
        "location = 'US' # Location inserted based on the query results selected to explore\n",
        "client = bigquery.Client(project=project, location=location)\n",
        "data_table.enable_dataframe_formatter()\n",
        "auth.authenticate_user()\n",
        "\n",
        "# Running this code will display the query used to generate your previous job\n",
        "# Сделать возможность выгружать из гитхаба\n",
        "job = client.get_job('bquxjob_38170b1c_18c8ecb9ae0') # Job ID inserted based on the query results selected to explore\n",
        "print(job.query)\n",
        "\n",
        "job = client.get_job('bquxjob_38170b1c_18c8ecb9ae0') # Job ID inserted based on the query results selected to explore\n",
        "\n",
        "test_kiosk_data = job.to_dataframe()\n",
        "cc_data = pd.read_excel('/content/cc.xlsx')\n",
        "kassa_data = pd.read_excel('/content/kassa.xlsx')"
      ],
      "metadata": {
        "colab": {
          "base_uri": "https://localhost:8080/"
        },
        "id": "IldYssD--P9F",
        "outputId": "02b12c65-b4b2-4add-ba93-38c2e3f2ddf0"
      },
      "execution_count": 882,
      "outputs": [
        {
          "output_type": "stream",
          "name": "stdout",
          "text": [
            "SELECT \r\n",
            "event_date,\r\n",
            "restraunt_id, \r\n",
            "app_version,\r\n",
            "device_version,\r\n",
            "auth_check,\r\n",
            "countif(event_name = 'action_order_start') as order_start_count,\r\n",
            "countif(event_name = 'action_order_success') as order_success_count,\r\n",
            "sum(order_value) as revenue,\r\n",
            "avg(product_count) as avg_products\r\n",
            "FROM `kfc-kiosk-3.analytics_342207469.only_auth_kiosk_data` \r\n",
            "Where status = 'online_checks'\r\n",
            "group by event_date, restraunt_id, app_version, device_version, auth_check\r\n",
            "Order by event_date, restraunt_id, app_version, device_version, auth_check\r\n",
            "\n"
          ]
        }
      ]
    },
    {
      "cell_type": "code",
      "source": [
        "# @title Predprocess\n",
        "def test_excel_table_prepare(excel_data):\n",
        "  excel_data = excel_data.drop(['Franchisee Name', 'City', 'Name', 'Facility',\n",
        "                 'AGC (Net)', 'Rating', 'Dish Quantity', 'Period',\n",
        "                 'DoW', 'RestPick', 'Rest excl'], axis=1)\n",
        "  excel_data = excel_data.rename(columns={'Code': 'restraunt_id',\n",
        "                                          'Date': 'event_date', 'Net Sales':'revenue',\n",
        "                                          'Checs Qnt': 'order_success_count'})\n",
        "  excel_data = excel_data[excel_data['restraunt_id'].isin(GetRestraunts())]\n",
        "  excel_data['event_date'] =  pd.to_datetime(excel_data['event_date']).dt.strftime('%Y-%m-%d')\n",
        "  excel_data.insert(1, 'day_of_week', pd.to_datetime(excel_data['event_date']).dt.day_name())\n",
        "  return excel_data\n",
        "\n",
        "def control_excel_table_prepare(excel_data):\n",
        "  excel_data = excel_data.drop(['Franchisee Name', 'City', 'Name', 'Facility',\n",
        "                 'AGC (Net)', 'Rating', 'Dish Quantity', 'Period',\n",
        "                 'DoW', 'RestPick', 'Rest excl'], axis=1)\n",
        "  excel_data = excel_data.rename(columns={'Code': 'restraunt_id',\n",
        "                                          'Date': 'event_date', 'Net Sales':'revenue',\n",
        "                                          'Checs Qnt': 'order_success_count'})\n",
        "  excel_data = excel_data[~excel_data['restraunt_id'].isin(GetRestraunts())]\n",
        "  excel_data['event_date'] =  pd.to_datetime(excel_data['event_date']).dt.strftime('%Y-%m-%d')\n",
        "  excel_data.insert(1, 'day_of_week', pd.to_datetime(excel_data['event_date']).dt.day_name())\n",
        "  return excel_data\n",
        "\n",
        "def bigquery_table_predproccess(data):\n",
        "  data['event_date'] =  pd.to_datetime(data['event_date']).dt.strftime('%Y-%m-%d')\n",
        "  data.insert(1, 'day_of_week', pd.to_datetime(data['event_date']).dt.day_name())\n",
        "  data = data[test_kiosk_data['event_date'] > '2023-12-01']\n",
        "  return data\n",
        "\n",
        "test_kiosk_data = bigquery_table_predproccess(test_kiosk_data)\n",
        "test_kiosk_data['channel'] = 'kiosk'\n",
        "\n",
        "test_cc_data = test_excel_table_prepare(cc_data)\n",
        "control_cc_data = control_excel_table_prepare(cc_data)\n",
        "test_cc_data['channel'] = 'cc'\n",
        "control_cc_data['channel'] = 'cc'\n",
        "\n",
        "test_kassa_data = test_excel_table_prepare(kassa_data)\n",
        "control_kassa_data = control_excel_table_prepare(kassa_data)\n",
        "test_kassa_data['channel'] = 'kassa'\n",
        "control_kassa_data['channel'] = 'kassa'"
      ],
      "metadata": {
        "id": "Rxl-kWXRpV0G"
      },
      "execution_count": null,
      "outputs": []
    },
    {
      "cell_type": "code",
      "source": [
        "# @title Функции\n",
        "def GetRestraunts():\n",
        "  return [74020587, 74013270, 74020449, 74021433, 74021788, 74020871, 74020660, 74021978, 74020896,\n",
        "           74012184, 74020851, 74020828, 74021003, 74021914, 74021880, 74021975, 74321670, 74321666,\n",
        "           74215106, 74021329, 74021678, 74021302, 74021639]\n",
        "\n",
        "def ChooseSlice(data, slice_type, aggregator, aggregation_type):\n",
        "    return round(data.groupby(slice_type.split(', '), as_index = False) \\\n",
        "          .aggregate({aggregator: aggregation_type}), 2)\n",
        "\n",
        "def SlicesList(data):\n",
        "  slice_count = 5\n",
        "  return data.columns.to_list()[:slice_count]\n",
        "\n",
        "def AggregationList(data):\n",
        "  slice_count = 5\n",
        "  return data.columns.to_list()[slice_count:]\n",
        "\n",
        "def DateCheck(data):\n",
        "  return data.event_date.min(), data.event_date.max()\n",
        "\n",
        "def hist_check(aggregated_data, x_axis, y_axis):\n",
        "    plt.figure(figsize=(10, 6))  # Задаем размер графика\n",
        "    sns.barplot(x=aggregated_data.index, y=aggregated_data[y_axis])\n",
        "    plt.title('Гистограмма на основе агрегированных данных')  # Заголовок графика\n",
        "    plt.xlabel(x_axis)  # Название оси x\n",
        "    plt.ylabel(y_axis)  # Название оси y\n",
        "    plt.show()\n",
        "\n",
        "def qq_plot_from_choose_slice(aggregated_data, slice_type, aggregator, aggregation_type):\n",
        "\n",
        "    # Создание Q-Q графика\n",
        "    fig, ax = plt.subplots(figsize=(10, 6))\n",
        "    sm.qqplot(aggregated_data[aggregator], line ='45', ax=ax)\n",
        "\n",
        "    # Формируем случайные данные с нормальным распределением для сравнения\n",
        "    np.random.seed(0)\n",
        "    sorted_data = np.sort(aggregated_data[aggregator])\n",
        "    normal_data = np.random.normal(np.mean(sorted_data), np.std(sorted_data), len(sorted_data))\n",
        "    sorted_normal_data = np.sort(normal_data\n",
        ")\n",
        "    # Добавляем данные нормального распределения на график\n",
        "    ax.scatter(sorted_normal_data, sorted_data, color='b', s=10, label='Данные')\n",
        "    ax.plot([np.min(sorted_normal_data), np.max(sorted_normal_data)], [np.min(sorted_normal_data), np.max(sorted_normal_data)], color='r', label='Идеальное нормальное распределение')\n",
        "\n",
        "    # Настройка графика\n",
        "    plt.title('Q-Q график')\n",
        "    plt.xlabel('Теоретические квантили')\n",
        "    plt.ylabel('Упорядоченные наблюдения')\n",
        "    plt.legend()\n",
        "    plt.show()\n",
        "\n",
        "def shapiro_test(aggregated_data):\n",
        "    stat, p_value = stats.shapiro(aggregated_data[aggregator])\n",
        "\n",
        "    # Выводим результат теста\n",
        "    print(\"Статистика теста:\", stat)\n",
        "    print(\"p-значение:\", p_value)\n",
        "\n",
        "    # Проверяем уровень значимости\n",
        "    alpha = 0.05\n",
        "    if p_value > alpha:\n",
        "        return \"Распределение похоже на нормальное (не отвергаем H0)\"\n",
        "    else:\n",
        "        return \"Распределение отличается от нормального (отвергаем H0)\"\n",
        "\n",
        "def ks_test(data):\n",
        "    # Генерируем выборку из стандартного нормального распределения той же длины, что и входные данные\n",
        "    normal_sample = np.random.normal(0, 1, len(data))\n",
        "\n",
        "    # Выполняем тест Колмогорова-Смирнова\n",
        "    stat, p_value = stats.kstest(data, normal_sample)\n",
        "\n",
        "    # Отображаем результаты теста\n",
        "    print(\"Статистика теста:\", stat)\n",
        "    print(\"p-значение:\", p_value)\n",
        "\n",
        "    # Проверяем уровень значимости\n",
        "    alpha = 0.05\n",
        "    if p_value > alpha:\n",
        "        print(\"Распределение похоже на нормальное (не отвергаем H0)\")\n",
        "    else:\n",
        "        print(\"Распределение отличается от нормального (отвергаем H0)\")\n",
        "\n",
        "def ConcatMineAndMarketingData(aggregated_kiosk_data, kassa_data, cc_data, slice_type, aggregator):\n",
        "    slice_cols = slice_type.split(', ')\n",
        "    a = pd.concat([aggregated_kiosk_data, kassa_data[slice_cols + [aggregator]]])\n",
        "    b = pd.concat([a, cc_data[slice_cols + [aggregator]]])\n",
        "    return b\n",
        "\n",
        "def VarCheck(var1, var2):\n",
        "  return var1.var(), var2.var()\n",
        "\n",
        "# @title Проверка на нормальность\n",
        "def NormCheck(data):\n",
        "  confidence_interval(data)\n",
        "  hist_check(data, slice_type, aggregator)\n",
        "  qq_plot_from_choose_slice(data, slice_type, aggregator, aggregation_type)\n",
        "  return print(shapiro_test(data), '\\n', confidence_interval(data))\n",
        "\n",
        "def confidence_interval(aggregated_data):\n",
        "  mean = aggregated_data[aggregator].mean()\n",
        "  std_dev = aggregated_data[aggregator].std()\n",
        "  n = len(aggregated_data[aggregator])\n",
        "  z = 1.96  # Для 95% доверительного интервала (для других уровней доверия используй другое значение)\n",
        "  margin_of_error = z * (std_dev / np.sqrt(n))\n",
        "  confidence_interval = (round(mean - margin_of_error,-4), round(mean + margin_of_error,-4))\n",
        "  return \"Доверительный интервал для среднего значения:\", confidence_interval\n",
        "\n",
        "def t_yiulch_test(aggregated_data):\n",
        "  stats.ttest_ind(aggregated_data[aggregated_data.ab_test == 'Control'], \\\n",
        "                  aggregated_data[aggregated_data.ab_test == 'Test'], equal_var = False )\n",
        "\n",
        "def mannwhitneyu_test(aggregated_data):\n",
        "  stats.mannwhitneyu(aggregated_data[aggregated_data.ab_test == 'Control'], \\\n",
        "                      aggregated_data[aggregated_data.ab_test == 'Test'], alternative='two-sided')"
      ],
      "metadata": {
        "id": "K0yrFVVJyUPY"
      },
      "execution_count": 884,
      "outputs": []
    },
    {
      "cell_type": "markdown",
      "source": [
        "-"
      ],
      "metadata": {
        "id": "TV8D_9aXHeRx"
      }
    },
    {
      "cell_type": "code",
      "source": [
        "print(DateCheck(control_cc_data)) # Интервал выгрузки\n",
        "print(SlicesList(control_cc_data)) # Список возможных срезов\n",
        "print(AggregationList(control_cc_data)) # Список возможных аггрегаторов"
      ],
      "metadata": {
        "colab": {
          "base_uri": "https://localhost:8080/"
        },
        "id": "esiUvqVyEkgd",
        "outputId": "70cf8933-9c4a-48f0-c4ef-73deb96a3471"
      },
      "execution_count": 886,
      "outputs": [
        {
          "output_type": "stream",
          "name": "stdout",
          "text": [
            "('2023-12-02', '2023-12-21')\n",
            "['restraunt_id', 'day_of_week', 'event_date', 'revenue', 'order_success_count']\n",
            "['channel']\n"
          ]
        }
      ]
    },
    {
      "cell_type": "markdown",
      "source": [
        "Сравнение количества заказов и выручки до и после обновления авторизации.\n",
        "Насколько упала конверсия по киоскам."
      ],
      "metadata": {
        "id": "YjbrGCujH-66"
      }
    },
    {
      "cell_type": "code",
      "source": [
        "# @title Функции\n",
        "def SplitGroups(data, ab_test_start_date, flag):\n",
        "  if flag == 'date':\n",
        "    data['ab_test'] = 'no_test'\n",
        "    for i in range(int(data.event_date.count())):\n",
        "      if (data.event_date[i] > ab_test_start_date):\n",
        "        data['ab_test'][i] = 'Test'\n",
        "      if (data.event_date[i] < ab_test_start_date):\n",
        "        data['ab_test'][i] = 'Control'\n",
        "      if (data.event_date[i] == ab_test_start_date):\n",
        "        data['ab_test'][i] = '---Start'\n",
        "    return data[data.ab_test == 'Control'], \\\n",
        "           data[data.ab_test == 'Test']\n",
        "\n",
        "def ChannelAggregation(kiosk_data, kassa_data, cc_data):\n",
        "  aggregated_kiosk_data = ChooseSlice(kiosk_data, slice_type, aggregator, aggregation_type)\n",
        "  aggregated_kassa_data = ChooseSlice(kassa_data, slice_type, aggregator, aggregation_type)\n",
        "  aggregated_cc_data = ChooseSlice(cc_data, slice_type, aggregator, aggregation_type)\n",
        "\n",
        "  channel_aggregation = ChooseSlice(ConcatMineAndMarketingData(aggregated_kiosk_data, \\\n",
        "                                 aggregated_kassa_data, aggregated_cc_data, slice_type, aggregator) \\\n",
        "                                 .sort_values(slice_type.split(', ')).reset_index().drop('index', axis=1), \\\n",
        "                                 slice_type, aggregator, aggregation_type)\n",
        "  return channel_aggregation\n",
        "\n",
        "def GetSplit(aggregation, parameter):\n",
        "  after , before = SplitGroups(aggregation, ab_test_start_date, 'date')\n",
        "  if len(parameter) == 0:\n",
        "    return after, before\n",
        "  else:\n",
        "    return after.query(parameter), before.query(parameter)\n",
        "\n",
        "def GetStats(data):\n",
        "  return data[aggregator].mean(), \\\n",
        "         data[aggregator].var(ddof=1), \\\n",
        "         data[aggregator].count()"
      ],
      "metadata": {
        "id": "Q7-76BHfWDYc"
      },
      "execution_count": 887,
      "outputs": []
    },
    {
      "cell_type": "code",
      "source": [
        "ab_test_start_date = '2023-12-15' ## ввести дату старта аб теста\n",
        "slice_type = 'event_date, restraunt_id, ' # по каким полям аггрегируем\n",
        "aggregator = 'revenue'\n",
        "aggregation_type = 'mean'\n",
        "parameter = '' # restraunt_id == 74020587\n",
        "\n",
        "# тестовая группа\n",
        "test_channel_aggregation = ChannelAggregation(test_kiosk_data, test_kassa_data, test_cc_data)\n",
        "test_channel_aggregation\n",
        "# контрольная группа\n",
        "control_channel_aggregation = ChannelAggregation(test_kiosk_data, control_kassa_data, control_cc_data)\n",
        "test_before, test_after = GetSplit(test_channel_aggregation, parameter)\n",
        "control_before, control_after = GetSplit(control_channel_aggregation, parameter)\n",
        "control = control_after\n",
        "test = test_after\n",
        "abar, avar, na = GetStats(test)\n",
        "bbar, bvar, nb = GetStats(control)\n",
        "\n",
        "# 2 Sample T-Test\n",
        "t2, p2 = ttest_ind_from_stats(abar, np.sqrt(avar), na,\n",
        "                              bbar, np.sqrt(bvar), nb,\n",
        "                              equal_var=False)\n",
        "print(\"ttest_ind_from_stats: t = %g  p = %g\" % (t2, p2))"
      ],
      "metadata": {
        "id": "P7-MsJOSbyGN"
      },
      "execution_count": null,
      "outputs": []
    },
    {
      "cell_type": "code",
      "source": [
        "GetStats(control)"
      ],
      "metadata": {
        "colab": {
          "base_uri": "https://localhost:8080/"
        },
        "id": "CpsPKq44eO2D",
        "outputId": "cfc7bb8f-539b-4f63-ea25-f05588b5b7d6"
      },
      "execution_count": 907,
      "outputs": [
        {
          "output_type": "execute_result",
          "data": {
            "text/plain": [
              "(44187.01833333333, 246015146.52429667, 6)"
            ]
          },
          "metadata": {},
          "execution_count": 907
        }
      ]
    },
    {
      "cell_type": "code",
      "source": [
        "GetStats(test)"
      ],
      "metadata": {
        "colab": {
          "base_uri": "https://localhost:8080/"
        },
        "id": "C00NnRz8KiUI",
        "outputId": "ff1e4725-1c3f-4721-d449-1382ecd0963b"
      },
      "execution_count": 908,
      "outputs": [
        {
          "output_type": "execute_result",
          "data": {
            "text/plain": [
              "(56083.189999999995, 79444891.22299995, 6)"
            ]
          },
          "metadata": {},
          "execution_count": 908
        }
      ]
    },
    {
      "cell_type": "code",
      "source": [
        "NormCheck(control)"
      ],
      "metadata": {
        "colab": {
          "base_uri": "https://localhost:8080/",
          "height": 1000
        },
        "id": "QIl32rhPFt3f",
        "outputId": "c5c1e61f-8768-44c2-fb94-a06b6d5fd82a"
      },
      "execution_count": 903,
      "outputs": [
        {
          "output_type": "display_data",
          "data": {
            "text/plain": [
              "<Figure size 1000x600 with 1 Axes>"
            ],
            "image/png": "[encoded data removed]"
          },
          "metadata": {}
        },
        {
          "output_type": "display_data",
          "data": {
            "text/plain": [
              "<Figure size 1000x600 with 1 Axes>"
            ],
            "image/png": "[encoded data removed]"
          },
          "metadata": {}
        },
        {
          "output_type": "stream",
          "name": "stdout",
          "text": [
            "Статистика теста: 0.9100567698478699\n",
            "p-значение: 0.43677017092704773\n",
            "Распределение похоже на нормальное (не отвергаем H0) \n",
            " ('Доверительный интервал для среднего значения:', (30000.0, 60000.0))\n"
          ]
        }
      ]
    },
    {
      "cell_type": "code",
      "source": [
        "welch_t, welch_p = stats.ttest_ind(control[aggregator].astype(float), \\\n",
        "                                   test[aggregator].astype(float), equal_var=False)\n",
        "print(\"Welch T-test:\")\n",
        "print(\"T-statistic: \", welch_t)\n",
        "print(\"p-value: \", welch_p, '\\n')\n",
        "\n",
        "student_t, student_p = stats.ttest_ind(control[aggregator].astype(float), \\\n",
        "                                   test[aggregator].astype(float), equal_var=True)\n",
        "print(\"Student T-test:\")\n",
        "print(\"T-statistic: \", welch_t)\n",
        "print(\"p-value: \", welch_p, '\\n')\n",
        "\n",
        "u, p = stats.mannwhitneyu(control[aggregator].astype(float), \\\n",
        "                                   test[aggregator].astype(float), alternative='two-sided')\n",
        "\n",
        "print(\"Mann-Whitney U-test:\")\n",
        "print(\"U-statistic: \", u)\n",
        "print(\"p-value: \", p, '\\n')\n"
      ],
      "metadata": {
        "id": "JQDZi6JQkm7r"
      },
      "execution_count": null,
      "outputs": []
    },
    {
      "cell_type": "code",
      "source": [],
      "metadata": {
        "id": "MVfH5K5Pysqp"
      },
      "execution_count": null,
      "outputs": []
    },
    {
      "cell_type": "code",
      "source": [
        "\n"
      ],
      "metadata": {
        "id": "rofT7xAccmnJ"
      },
      "execution_count": null,
      "outputs": []
    }
  ]
}